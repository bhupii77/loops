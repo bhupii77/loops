{
 "cells": [
  {
   "cell_type": "markdown",
   "metadata": {},
   "source": [
    "Loops \n",
    "- for loop \n",
    "- loop concepts \n",
    "    - break \n",
    "    - continue \n",
    "    - else \n",
    "    - enumerate \n",
    "    - zip \n",
    "- while loop \n",
    "\n",
    "for loop syntax\n",
    "\n",
    "```\n",
    "for temp_var in variable\n",
    "    statement 1 \n",
    "    statement 2\n",
    "    ```"
   ]
  },
  {
   "cell_type": "code",
   "execution_count": null,
   "metadata": {},
   "outputs": [],
   "source": [
    "colors = ['red','green','yellow','blue','white']\n",
    "for color in colors :\n",
    "    print(color)"
   ]
  },
  {
   "cell_type": "code",
   "execution_count": null,
   "metadata": {},
   "outputs": [],
   "source": [
    "for color in colors:\n",
    "    size = len(color)\n",
    "    print(f'{color:10}{size} chars')"
   ]
  },
  {
   "cell_type": "code",
   "execution_count": null,
   "metadata": {},
   "outputs": [],
   "source": [
    "for colopr in colors:\n",
    "    if 'e' in color:\n",
    "        print(color)"
   ]
  },
  {
   "cell_type": "code",
   "execution_count": null,
   "metadata": {},
   "outputs": [],
   "source": [
    "raw_data= ['Alex','Akku','Prashu','hemu','','bhupii','']\n",
    "for name in raw_data:\n",
    "    print(name)"
   ]
  },
  {
   "cell_type": "code",
   "execution_count": null,
   "metadata": {},
   "outputs": [],
   "source": [
    "for name in raw_data:\n",
    "    if len(name)>0:\n",
    "        print(name)"
   ]
  },
  {
   "cell_type": "code",
   "execution_count": null,
   "metadata": {},
   "outputs": [],
   "source": [
    "for name in raw_data:\n",
    "    if not name:\n",
    "        continue #comntinue is for skip blank\n",
    "    print(name)"
   ]
  },
  {
   "cell_type": "code",
   "execution_count": null,
   "metadata": {},
   "outputs": [],
   "source": [
    "numbers = [2,26,58,74,56,89,52,65,88]\n",
    "for i in numbers:\n",
    "    if i % 2 != 0:\n",
    "       break\n",
    "    print(i)\n",
    "       \n"
   ]
  },
  {
   "cell_type": "code",
   "execution_count": null,
   "metadata": {},
   "outputs": [],
   "source": [
    "raw_data= ['Alex','Akku','Prashu','hemu','bhupii']\n",
    "roll_no = [2001,2002,2003,2004,'']"
   ]
  },
  {
   "cell_type": "markdown",
   "metadata": {},
   "source": [
    "Aggregation logic"
   ]
  },
  {
   "cell_type": "code",
   "execution_count": null,
   "metadata": {},
   "outputs": [],
   "source": [
    "total = 1 \n",
    "for i in numbers :\n",
    "    total*=i\n",
    "    print(total)\n"
   ]
  },
  {
   "cell_type": "code",
   "execution_count": null,
   "metadata": {},
   "outputs": [],
   "source": [
    "#for fianl value \n",
    "total = 1 \n",
    "for i in numbers :\n",
    "    total*=i\n",
    "print(total)"
   ]
  },
  {
   "cell_type": "code",
   "execution_count": null,
   "metadata": {},
   "outputs": [],
   "source": [
    "msg = 'This is a simple message with few words'\n",
    "#count the no. of spaces using loops\n",
    "for char in msg:\n",
    "    print(char)"
   ]
  },
  {
   "cell_type": "code",
   "execution_count": null,
   "metadata": {},
   "outputs": [],
   "source": [
    "msg = 'This is a simple message with few words'\n",
    "#count the no. of spaces using loops\n",
    "count = 0 \n",
    "for char in msg:\n",
    "    if char == '':\n",
    "        count += 1\n",
    "print(f'{count}spaces found')"
   ]
  },
  {
   "cell_type": "code",
   "execution_count": null,
   "metadata": {},
   "outputs": [],
   "source": [
    "msg.count('')"
   ]
  },
  {
   "cell_type": "code",
   "execution_count": 23,
   "metadata": {},
   "outputs": [
    {
     "name": "stdout",
     "output_type": "stream",
     "text": [
      "the final empire\n",
      "the well of ghost\n",
      "the hero of ages\n"
     ]
    }
   ],
   "source": [
    "books = ['the final empire','the well of ghost','the hero of ages']\n",
    "for book in books:\n",
    "    print(book)"
   ]
  },
  {
   "cell_type": "code",
   "execution_count": 25,
   "metadata": {},
   "outputs": [
    {
     "name": "stdout",
     "output_type": "stream",
     "text": [
      "0 the final empire\n",
      "1 the well of ghost\n",
      "2 the hero of ages\n"
     ]
    }
   ],
   "source": [
    "#worst way\n",
    "idx = 0 \n",
    "for book in books:\n",
    "    print(f'{idx} {book}')\n",
    "    idx += 1"
   ]
  },
  {
   "cell_type": "code",
   "execution_count": 27,
   "metadata": {},
   "outputs": [
    {
     "name": "stdout",
     "output_type": "stream",
     "text": [
      "0 the final empire\n",
      "1 the well of ghost\n",
      "2 the hero of ages\n"
     ]
    }
   ],
   "source": [
    "# better way\n",
    "for i in range(len(books)) :\n",
    "\n",
    "    print(f\"{i} {books[i]}\")\n"
   ]
  },
  {
   "cell_type": "code",
   "execution_count": 29,
   "metadata": {},
   "outputs": [
    {
     "name": "stdout",
     "output_type": "stream",
     "text": [
      "0 the final empire\n",
      "1 the well of ghost\n",
      "2 the hero of ages\n"
     ]
    }
   ],
   "source": [
    "#pythonic code \n",
    "for idx , book in enumerate (books):\n",
    "    print(f\"{idx} {book}\")"
   ]
  },
  {
   "cell_type": "code",
   "execution_count": 31,
   "metadata": {},
   "outputs": [
    {
     "name": "stdout",
     "output_type": "stream",
     "text": [
      "alex\n",
      "bhupii\n",
      "akku\n",
      "prashu\n",
      "hemuu\n"
     ]
    }
   ],
   "source": [
    "names = ['alex','bhupii','akku','prashu','hemuu','charlie','gappu']\n",
    "\n",
    "for i, name in enumerate (names):\n",
    "    \n",
    "    if i == 5: break\n",
    "    print(name)"
   ]
  },
  {
   "cell_type": "code",
   "execution_count": null,
   "metadata": {},
   "outputs": [],
   "source": []
  }
 ],
 "metadata": {
  "kernelspec": {
   "display_name": "base",
   "language": "python",
   "name": "python3"
  },
  "language_info": {
   "codemirror_mode": {
    "name": "ipython",
    "version": 3
   },
   "file_extension": ".py",
   "mimetype": "text/x-python",
   "name": "python",
   "nbconvert_exporter": "python",
   "pygments_lexer": "ipython3",
   "version": "3.11.4"
  },
  "orig_nbformat": 4
 },
 "nbformat": 4,
 "nbformat_minor": 2
}
